{
  "nbformat": 4,
  "nbformat_minor": 0,
  "metadata": {
    "colab": {
      "provenance": [],
      "include_colab_link": true
    },
    "kernelspec": {
      "name": "python3",
      "display_name": "Python 3"
    },
    "language_info": {
      "name": "python"
    }
  },
  "cells": [
    {
      "cell_type": "markdown",
      "metadata": {
        "id": "view-in-github",
        "colab_type": "text"
      },
      "source": [
        "<a href=\"https://colab.research.google.com/github/Sridharsh7/Python/blob/main/BasicsOfPythonipynb.ipynb\" target=\"_parent\"><img src=\"https://colab.research.google.com/assets/colab-badge.svg\" alt=\"Open In Colab\"/></a>"
      ]
    },
    {
      "cell_type": "code",
      "execution_count": null,
      "metadata": {
        "colab": {
          "base_uri": "https://localhost:8080/"
        },
        "id": "YtYT02lc0jM4",
        "outputId": "2eba4272-bd8e-4df9-a0ca-22e5af4eb33c"
      },
      "outputs": [
        {
          "output_type": "stream",
          "name": "stdout",
          "text": [
            "Hello World\n"
          ]
        }
      ],
      "source": [
        "print(\"Hello World\")"
      ]
    },
    {
      "cell_type": "code",
      "source": [
        "#VARIABLE - PLACEHOLDER / STORE DATA\n",
        "\n",
        "message = \"Hello World\"\n",
        "print(message)\n"
      ],
      "metadata": {
        "colab": {
          "base_uri": "https://localhost:8080/"
        },
        "id": "badca2Yd2lnE",
        "outputId": "62380938-e8b5-4565-d222-2d344d447426"
      },
      "execution_count": null,
      "outputs": [
        {
          "output_type": "stream",
          "name": "stdout",
          "text": [
            "Hello World\n"
          ]
        }
      ]
    },
    {
      "cell_type": "code",
      "source": [
        "#by default = string\n",
        "#DATA TYPES -\n",
        "\n",
        "# INTEGER = NUMERICAL VALUE = WHOLE NO = 1,2,3....\n",
        "# FLOAT = DECIMAL = 0.3, 0.5 , 0.8....\n",
        "# CHARACTER = a,b,c || A,B,C\n",
        "# STRING = COLLECTION OF CHARACTERS = Python, jupyter\n",
        "#BOLLEAN = YES OR NO , 0 OR 1\n"
      ],
      "metadata": {
        "id": "yyWalFKZ3kSr"
      },
      "execution_count": null,
      "outputs": []
    },
    {
      "cell_type": "code",
      "source": [
        "#CONDITIONAL MAKING STATEMENTS\n",
        "#IT HELPS US TO MAKE DECISION BASED ON CERTAIN CONDITIONS\n",
        "\n",
        "#TYPES OF CONDITIONAL STATEMENTS\n",
        "\n",
        "#1-IF-ELSE\n",
        "#2- NESTED - IF - STATEMENT\n",
        "#3 - MATCH CASE STATEMENT"
      ],
      "metadata": {
        "id": "cTH-0RbB4M7Z"
      },
      "execution_count": null,
      "outputs": []
    },
    {
      "cell_type": "code",
      "source": [
        "#IF-ELSE\n",
        "\n",
        "#IF CONDITION 1 :\n",
        "      STATEMENT 1\n",
        "#ELSE :\n",
        "    STATEMENT 2\n"
      ],
      "metadata": {
        "id": "vxSLLluZ6baR"
      },
      "execution_count": null,
      "outputs": []
    },
    {
      "cell_type": "code",
      "source": [
        "#EXAMPLE - IF-ELSE\n",
        "i = 5\n",
        "\n",
        "if (i>15):\n",
        "  print(\"20 is less than 15\")\n",
        "else :\n",
        "  print(\"stop\")"
      ],
      "metadata": {
        "colab": {
          "base_uri": "https://localhost:8080/"
        },
        "id": "ydNOsjrB63yX",
        "outputId": "64e4f58a-d5cc-4e4a-c0a0-62bab3abd7d9"
      },
      "execution_count": null,
      "outputs": [
        {
          "output_type": "stream",
          "name": "stdout",
          "text": [
            "stop\n"
          ]
        }
      ]
    },
    {
      "cell_type": "code",
      "source": [
        "#NESTED - IF\n",
        "\n",
        "# IF (CONDITION):\n",
        "# {\n",
        "#     IF\n",
        "#     STATEMENT WILL GET EXECUTED\n",
        "# }"
      ],
      "metadata": {
        "id": "RX-9hnwJ7nbP"
      },
      "execution_count": null,
      "outputs": []
    },
    {
      "cell_type": "code",
      "source": [
        "#NESTED - IF\n",
        "\n",
        "# IF (CONDITION):\n",
        "# {\n",
        "#     ELIF :\n",
        "#     STATEMENT WILL GET EXECUTED\n",
        "      ELIF :\n",
        "      STATEMENT:\n",
        "      ELSE :\n",
        "      STATEMENT :\n",
        "# }"
      ],
      "metadata": {
        "id": "EYMdEmSHDpvB"
      },
      "execution_count": null,
      "outputs": []
    },
    {
      "cell_type": "code",
      "source": [
        "value = 30\n",
        "\n",
        "if value <10 :\n",
        "  print(\"value is less than 10\")\n",
        "\n",
        "if value>20:\n",
        "  print(\"value ias greater than 20\")"
      ],
      "metadata": {
        "colab": {
          "base_uri": "https://localhost:8080/"
        },
        "id": "XD3fiJXy8UEt",
        "outputId": "703f86c2-4c3a-44fd-f1f5-73072f91e609"
      },
      "execution_count": null,
      "outputs": [
        {
          "output_type": "stream",
          "name": "stdout",
          "text": [
            "value ias greater than 20\n"
          ]
        }
      ]
    },
    {
      "cell_type": "code",
      "source": [
        "# #FUNCTION = THAT HELPS US TO RE-USE THE SAME PIECE OF CODE AGAIN AND AGAIN WITHOUT EXPLICITLY DEFINITING WHENEVER WE NEED\n",
        "# WE CALL THE FUNCTION WHENVER WE NEED IT INSTEAD OF MAKING IT SECOND TIME\n",
        "\n",
        "#ADD\n",
        "\n",
        "#SUBTRACTION\n",
        "\n",
        "#MULTIPLICATION\n",
        "\n",
        "#DIVISION\n",
        "\n",
        "#ADD - CODE AGAIN? (WITHOUT FUNCTION, AGAIN - MARK)\n",
        "\n",
        "#ADD - CODE AGAIN? (FUNCTON, ONLY BY THE NAME YOU CAN CALL FUNCTION)\n",
        "\n",
        "#DIVISON - CALL MY FUNCTION OF DIVISON\n",
        "\n",
        "\n",
        "#HOW TO INITILAIZE/ MAKE FUNCTION ?\n",
        "\n",
        "# def functioname\n"
      ],
      "metadata": {
        "id": "SD7owNIB9Bmt"
      },
      "execution_count": null,
      "outputs": []
    },
    {
      "cell_type": "code",
      "source": [
        "# def apporv:\n",
        "#   .......\n",
        "#   .......\n",
        "#   logic\n",
        "#   .......\n",
        "#   ......\n",
        "\n",
        "# call apporv"
      ],
      "metadata": {
        "id": "jkobpmaW_HTv"
      },
      "execution_count": null,
      "outputs": []
    },
    {
      "cell_type": "code",
      "source": [
        "def add(a,b,c):\n",
        "  return a+b+c\n",
        "\n",
        "result = add (5,3,2)\n",
        "print(result)"
      ],
      "metadata": {
        "colab": {
          "base_uri": "https://localhost:8080/"
        },
        "id": "h1tZfB4l_Wdc",
        "outputId": "3c2bfdf1-5e59-4756-921c-24786406bbbf"
      },
      "execution_count": null,
      "outputs": [
        {
          "output_type": "stream",
          "name": "stdout",
          "text": [
            "10\n"
          ]
        }
      ]
    },
    {
      "cell_type": "code",
      "source": [
        "#SWITCH CASE\n",
        "\n",
        "def number(a):\n",
        "  match a :\n",
        "    case 0 :\n",
        "      return \"zero\"\n",
        "    case 1:\n",
        "      return \"one\"\n",
        "    case 2:\n",
        "      return \"two\"\n",
        "    case default :\n",
        "      return \"defaultstatement\"\n",
        "\n",
        "head = number(5)\n",
        "print(head)\n"
      ],
      "metadata": {
        "colab": {
          "base_uri": "https://localhost:8080/"
        },
        "id": "IVc9sx6tA1Y4",
        "outputId": "6cc935bc-1f31-4741-b6cf-33a7248e8c61"
      },
      "execution_count": null,
      "outputs": [
        {
          "output_type": "stream",
          "name": "stdout",
          "text": [
            "defaultstatement\n"
          ]
        }
      ]
    },
    {
      "cell_type": "code",
      "source": [
        "# IF-ELIF-ELSE\n",
        "\n",
        "IF\n",
        "{\n",
        "# IF CONDITION 1 :\n",
        "#     PRINT(STATEMENT)\n",
        "# ELIF :\n",
        "#     PRINT\n",
        "# ELIF :\n",
        "#     PRINT()\n",
        "# ELSE :\n",
        "#   PRINT()\n",
        "}"
      ],
      "metadata": {
        "id": "-FBLDfp4DV11"
      },
      "execution_count": null,
      "outputs": []
    },
    {
      "cell_type": "code",
      "source": [
        "#HOMEWORK\n",
        "\n",
        "# 3 QUESTIONS OF CONDITIONAL STATEMENTS\n",
        "# 3 QUESTIONS OF FUNCTIONS\n"
      ],
      "metadata": {
        "id": "Rw6r6id3D9Hq"
      },
      "execution_count": null,
      "outputs": []
    },
    {
      "cell_type": "code",
      "source": [
        "#LOOPS IN PYTHON\n",
        "\n",
        "#THREE CATEGORIES :\n",
        "\n",
        "#FOR LOOP\n",
        "#DO WHILE LOOP\n",
        "#WHILE LOOP\n"
      ],
      "metadata": {
        "id": "WyKdfX0yDKyg"
      },
      "execution_count": null,
      "outputs": []
    },
    {
      "cell_type": "code",
      "source": [
        "#FOR LOOP # known - sequence by the help of range functions\n",
        "\n",
        "# range(1,11) (X,Y) -> X= INCLUSIVE, Y=>EXCLUSIVE\n",
        "# 1\n",
        "# 2\n",
        "# 3\n",
        "# 4\n",
        "# 5\n",
        "# 6\n",
        "# 7\n",
        "# 8\n",
        "# 9\n",
        "# 10\n",
        "\n",
        "# range(0,12,2)\n",
        "\n",
        "# 0\n",
        "# 2\n",
        "# 4\n",
        "# 6\n",
        "# 8\n",
        "# 10\n",
        "\n",
        "for i in range(0,10,2):\n",
        "  print(i)"
      ],
      "metadata": {
        "colab": {
          "base_uri": "https://localhost:8080/"
        },
        "id": "uECfgvDijKK-",
        "outputId": "0e936a12-d74d-4d16-9785-67ff62a7565e"
      },
      "execution_count": null,
      "outputs": [
        {
          "output_type": "stream",
          "name": "stdout",
          "text": [
            "0\n",
            "2\n",
            "4\n",
            "6\n",
            "8\n"
          ]
        }
      ]
    },
    {
      "cell_type": "code",
      "source": [
        "l=[\"python\", \"machine learning\", \"AI\"]\n",
        "\n",
        "for i in l :\n",
        "  print(i)"
      ],
      "metadata": {
        "colab": {
          "base_uri": "https://localhost:8080/"
        },
        "id": "81_HKjzwki5V",
        "outputId": "2318a89a-f6e2-4094-fad0-71d7e877c1fa"
      },
      "execution_count": null,
      "outputs": [
        {
          "output_type": "stream",
          "name": "stdout",
          "text": [
            "python\n",
            "machine learning\n",
            "AI\n"
          ]
        }
      ]
    },
    {
      "cell_type": "code",
      "source": [
        "#DIFFERENCE BETWEEN WHILE LOOP AND DO WHILE LOOP\n",
        "\n",
        "#WHILE LOOP = IT EXECUTE AS LONG AS THE CONDITION IS TRUE / THE NO OF EXECUTION OF INTERATION IS NOT KNOWN TO US BEFOREHEAD\n",
        "i=1\n",
        "while i<=5:\n",
        "  print(i)\n",
        "  i+=1"
      ],
      "metadata": {
        "colab": {
          "base_uri": "https://localhost:8080/"
        },
        "id": "0I20tMUmk_JY",
        "outputId": "583e4d57-1892-4858-efe5-efc28af1cf54"
      },
      "execution_count": null,
      "outputs": [
        {
          "output_type": "stream",
          "name": "stdout",
          "text": [
            "1\n",
            "2\n",
            "3\n",
            "4\n",
            "5\n"
          ]
        }
      ]
    },
    {
      "cell_type": "code",
      "source": [
        "#DO WHILE LOOP - EXECUTE ATLEAST ONCE BEFORE CHECKING\n",
        "\n",
        "int i = 10\n",
        "do\n",
        "{\n",
        "    while\n",
        "    print\n",
        "    i++\n",
        "    while\n",
        "}\n"
      ],
      "metadata": {
        "id": "mSvoBzAqmQYk"
      },
      "execution_count": null,
      "outputs": []
    },
    {
      "cell_type": "code",
      "source": [
        "#DO WHILE LOOP\n",
        "\n",
        "i = 1\n",
        "\n",
        "while True :\n",
        "  print(i)\n",
        "  i=i+1\n",
        "  if(i>5):\n",
        "    break"
      ],
      "metadata": {
        "colab": {
          "base_uri": "https://localhost:8080/"
        },
        "id": "jVcGcj86m-yl",
        "outputId": "4e05a9c8-e67f-4b49-8a04-2c753c3ab9ac"
      },
      "execution_count": null,
      "outputs": [
        {
          "output_type": "stream",
          "name": "stdout",
          "text": [
            "1\n",
            "2\n",
            "3\n",
            "4\n",
            "5\n"
          ]
        }
      ]
    },
    {
      "cell_type": "code",
      "source": [
        "while True :\n",
        "  user\n",
        "  num1 = int(user_input)\n",
        "\n",
        "if\n"
      ],
      "metadata": {
        "id": "f-SyyQSioKdh"
      },
      "execution_count": null,
      "outputs": []
    },
    {
      "cell_type": "code",
      "source": [],
      "metadata": {
        "id": "Ps0o4zOVpVM1"
      },
      "execution_count": null,
      "outputs": []
    }
  ]
}